{
  "nbformat": 4,
  "nbformat_minor": 0,
  "metadata": {
    "colab": {
      "provenance": [],
      "authorship_tag": "ABX9TyP/GyYqXHCfe/wOJ163I/3g"
    },
    "kernelspec": {
      "name": "python3",
      "display_name": "Python 3"
    },
    "language_info": {
      "name": "python"
    }
  },
  "cells": [
    {
      "cell_type": "code",
      "execution_count": null,
      "metadata": {
        "colab": {
          "base_uri": "https://localhost:8080/"
        },
        "id": "8jykEoVRfQ4a",
        "outputId": "9ed16df8-a310-4c58-8294-12cbe4361f4a"
      },
      "outputs": [
        {
          "output_type": "stream",
          "name": "stdout",
          "text": [
            "Hola mundo\n"
          ]
        }
      ],
      "source": [
        "print(\"Hola mundo\")"
      ]
    },
    {
      "cell_type": "code",
      "source": [
        "nombre = input(\"Ingresa nombre: \")\n",
        "edad = int( input(\"Ingresa edad: \") )\n",
        "print(nombre, edad)"
      ],
      "metadata": {
        "colab": {
          "base_uri": "https://localhost:8080/"
        },
        "id": "3XxiPdnoiSAo",
        "outputId": "14d26216-6895-4eb4-e95e-3c09d8128205"
      },
      "execution_count": null,
      "outputs": [
        {
          "output_type": "stream",
          "name": "stdout",
          "text": [
            "Ingresa nombre: gg\n",
            "Ingresa edad: 4\n",
            "gg 4\n"
          ]
        }
      ]
    },
    {
      "cell_type": "code",
      "source": [
        "type(nombre), type(edad)"
      ],
      "metadata": {
        "colab": {
          "base_uri": "https://localhost:8080/"
        },
        "id": "DTzP7g0wil59",
        "outputId": "d066f6fe-5309-4f0c-e922-0e28a1062f35"
      },
      "execution_count": null,
      "outputs": [
        {
          "output_type": "execute_result",
          "data": {
            "text/plain": [
              "(str, int)"
            ]
          },
          "metadata": {},
          "execution_count": 3
        }
      ]
    },
    {
      "cell_type": "code",
      "source": [
        "nombre.count('A')"
      ],
      "metadata": {
        "colab": {
          "base_uri": "https://localhost:8080/"
        },
        "id": "e78g8cA9i_NB",
        "outputId": "fcf95551-6dac-4f1d-daa2-921b97a83d68"
      },
      "execution_count": null,
      "outputs": [
        {
          "output_type": "execute_result",
          "data": {
            "text/plain": [
              "0"
            ]
          },
          "metadata": {},
          "execution_count": 4
        }
      ]
    },
    {
      "cell_type": "code",
      "source": [
        "edad+edad"
      ],
      "metadata": {
        "colab": {
          "base_uri": "https://localhost:8080/"
        },
        "id": "kx2JiWLyjcQS",
        "outputId": "f7ba7314-da04-4145-e65b-2ff9da5d86d4"
      },
      "execution_count": null,
      "outputs": [
        {
          "output_type": "execute_result",
          "data": {
            "text/plain": [
              "8"
            ]
          },
          "metadata": {},
          "execution_count": 5
        }
      ]
    },
    {
      "cell_type": "code",
      "source": [
        "nombre+' -- '+str(edad)"
      ],
      "metadata": {
        "colab": {
          "base_uri": "https://localhost:8080/",
          "height": 36
        },
        "id": "i3J2mCa9jgl2",
        "outputId": "b44bf289-809d-4f2a-ae97-10ece6e8cbd5"
      },
      "execution_count": null,
      "outputs": [
        {
          "output_type": "execute_result",
          "data": {
            "text/plain": [
              "'gg -- 4'"
            ],
            "application/vnd.google.colaboratory.intrinsic+json": {
              "type": "string"
            }
          },
          "metadata": {},
          "execution_count": 6
        }
      ]
    },
    {
      "cell_type": "code",
      "source": [
        "print(f\"nombre:{nombre}, edad: {edad}\")"
      ],
      "metadata": {
        "colab": {
          "base_uri": "https://localhost:8080/"
        },
        "id": "-6p1AavVjx4d",
        "outputId": "7fb7f6f2-8b03-4991-e26f-81ad0de53962"
      },
      "execution_count": null,
      "outputs": [
        {
          "output_type": "stream",
          "name": "stdout",
          "text": [
            "nombre:gg, edad: 4\n"
          ]
        }
      ]
    },
    {
      "cell_type": "code",
      "source": [
        "lista = [1,2,3,4, \"hola\", [1,2]]\n",
        "#print(lista[--1])\n",
        "#print(lista[0:4:2])\n",
        "#lista[5][1]\n",
        "#print(lista)\n",
        "lista.append(5)\n",
        "lista.append(-1)\n",
        "print(lista)"
      ],
      "metadata": {
        "colab": {
          "base_uri": "https://localhost:8080/"
        },
        "id": "Rhw0h5jXkV92",
        "outputId": "276a12c2-f406-4e66-d7da-16718a40ec31"
      },
      "execution_count": null,
      "outputs": [
        {
          "output_type": "stream",
          "name": "stdout",
          "text": [
            "[1, 2, 3, 4, 'hola', [1, 2], 5, -1]\n"
          ]
        }
      ]
    },
    {
      "cell_type": "code",
      "source": [
        "d = {\"uno\":1, \"dos\":2}\n",
        "print(d[\"uno\"])\n",
        "d.values(), d.keys()"
      ],
      "metadata": {
        "colab": {
          "base_uri": "https://localhost:8080/"
        },
        "id": "JL2dd715liwq",
        "outputId": "17377389-e26c-4bbc-9eeb-50e01e25f983"
      },
      "execution_count": null,
      "outputs": [
        {
          "output_type": "stream",
          "name": "stdout",
          "text": [
            "1\n"
          ]
        },
        {
          "output_type": "execute_result",
          "data": {
            "text/plain": [
              "(dict_values([1, 2]), dict_keys(['uno', 'dos']))"
            ]
          },
          "metadata": {},
          "execution_count": 9
        }
      ]
    },
    {
      "cell_type": "code",
      "source": [
        "paises = [\"Chile\", \"Brasil\", \"Argentina\"]\n",
        "capitales = [\"Stgo\", \"Brasilia\", \"BsAires\"]\n",
        "\n",
        "#for p in paises:\n",
        "#    print(p)\n",
        "\n",
        "for i in range(len(paises)):\n",
        "    if paises[i] == 'Brasil':\n",
        "        break\n",
        "    print(paises[i], capitales[i])"
      ],
      "metadata": {
        "colab": {
          "base_uri": "https://localhost:8080/"
        },
        "id": "34RJ2yAKmWQG",
        "outputId": "96a981e0-3f72-46b8-bbc4-9efea5a6ab88"
      },
      "execution_count": null,
      "outputs": [
        {
          "output_type": "stream",
          "name": "stdout",
          "text": [
            "Chile Stgo\n"
          ]
        }
      ]
    },
    {
      "cell_type": "code",
      "source": [
        "def suma(n1,n2=0):\n",
        "    s1 = n1+n2\n",
        "    return s1\n",
        "\n",
        "f = lambda n1,n2: n1+n2\n",
        "\n",
        "suma(1,4), f(1,4)"
      ],
      "metadata": {
        "id": "wemcbp-_nWzc",
        "colab": {
          "base_uri": "https://localhost:8080/"
        },
        "outputId": "6b5d803a-f000-479a-ad13-14ade5e36962"
      },
      "execution_count": null,
      "outputs": [
        {
          "output_type": "execute_result",
          "data": {
            "text/plain": [
              "(5, 5)"
            ]
          },
          "metadata": {},
          "execution_count": 13
        }
      ]
    },
    {
      "cell_type": "code",
      "source": [
        "lista = [\"Chile\", \"Argentina\", \"Peru\", \"Brasil\"]\n",
        "sorted(lista), sorted(lista, key=lambda x:len(x), reverse=False)"
      ],
      "metadata": {
        "colab": {
          "base_uri": "https://localhost:8080/"
        },
        "id": "4mbsGpI8nc9w",
        "outputId": "6701b0c5-cf1f-49f9-c6dc-2af48ffdd8ae"
      },
      "execution_count": null,
      "outputs": [
        {
          "output_type": "execute_result",
          "data": {
            "text/plain": [
              "(['Argentina', 'Brasil', 'Chile', 'Peru'],\n",
              " ['Peru', 'Chile', 'Brasil', 'Argentina'])"
            ]
          },
          "metadata": {},
          "execution_count": 20
        }
      ]
    },
    {
      "cell_type": "code",
      "source": [
        "class Humano(object):\n",
        "    def __init__(self, nombre, edad=18):\n",
        "        self.nombre = nombre\n",
        "        self.edad = edad\n",
        "    def hablar(self, mensaje=\"Hola \"):\n",
        "        mensajef = mensaje+self.nombre+\" tengo \"+str(self.edad)+\" años\"\n",
        "        print(mensajef)\n",
        "    def saludar(self):\n",
        "        self.hablar()\n",
        "    def __add__(self, otro):\n",
        "        return self.edad + otro.edad\n",
        "\n",
        "juan = Humano(\"Juan\")\n",
        "#juan.hablar()\n",
        "#juan.saludar()\n",
        "#juan.edad, juan.nombre\n",
        "pedro = Humano(\"Pddro\", 30)\n",
        "\n",
        "juan+pedro"
      ],
      "metadata": {
        "colab": {
          "base_uri": "https://localhost:8080/"
        },
        "id": "c7d0tvLaptqa",
        "outputId": "3e7df357-c6a6-4a53-c2b4-23252670b56e"
      },
      "execution_count": null,
      "outputs": [
        {
          "output_type": "execute_result",
          "data": {
            "text/plain": [
              "48"
            ]
          },
          "metadata": {},
          "execution_count": 33
        }
      ]
    }
  ]
}